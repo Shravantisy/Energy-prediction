{
 "cells": [
  {
   "cell_type": "markdown",
   "metadata": {},
   "source": [
    "# This is Shravanti's and my final project of the Data-Science Bootcamp at WBS Coding School"
   ]
  },
  {
   "cell_type": "markdown",
   "metadata": {},
   "source": [
    "#### The main goal of our work is to use data of gas consumption and gas prices from the past 4 years (2018 - 2021) to predict consumption and prices for 2022, as if the Ukraine war would have not happened.\n",
    "#### We will compare this predicted data to the actual data (01 - 07/2022) to show the effect of the war on the consumption and the prices.\n",
    "#### As the last step, we will predict gas consumption and prices based on the current data (01 - 07/2022) with diffent scenarios of the gas supply by Russia."
   ]
  },
  {
   "cell_type": "markdown",
   "metadata": {},
   "source": [
    "### **This notebook contains the data cleaning of the \"GDP\" dataset.**"
   ]
  },
  {
   "cell_type": "code",
   "execution_count": null,
   "metadata": {},
   "outputs": [],
   "source": [
    "import pandas as pd\n",
    "import matplotlib as plt\n",
    "import seaborn as sns"
   ]
  },
  {
   "cell_type": "code",
   "execution_count": null,
   "metadata": {},
   "outputs": [],
   "source": [
    "data_original_gdp = pd.read_excel(r\"/Volumes/Extreme Pro/WBS Bootcamp Data Science/Final Project/Data/Original/GDP/Evolution of GDP worldwide since 1960.xls\")"
   ]
  },
  {
   "cell_type": "code",
   "execution_count": null,
   "metadata": {},
   "outputs": [],
   "source": [
    "data_original_gdp.head(10)"
   ]
  },
  {
   "cell_type": "code",
   "execution_count": null,
   "metadata": {},
   "outputs": [],
   "source": [
    "# selecting values for European Union\n",
    "data_gdp_eu_20xx = data_original_gdp.set_index(\"Country Name\")\n",
    "data_gdp_eu_20xx = data_gdp_eu_20xx.loc[[\"European Union\"]]\n",
    "data_gdp_eu_20xx = data_gdp_eu_20xx.reset_index()\n",
    "data_gdp_eu_20xx"
   ]
  },
  {
   "cell_type": "code",
   "execution_count": null,
   "metadata": {},
   "outputs": [],
   "source": [
    "# drop unwanted columns to plot trend of GDP for EU\n",
    "df_to_plot = data_gdp_eu_20xx.drop(data_gdp_eu_20xx.columns[[0,1,2,3]], axis = 1)\n",
    "df_to_plot = df_to_plot.T\n",
    "df_to_plot.plot()"
   ]
  },
  {
   "cell_type": "code",
   "execution_count": null,
   "metadata": {},
   "outputs": [],
   "source": [
    "# plot GDP only after 2007\n",
    "df_2000 = data_gdp_eu_20xx.loc[:, \"2007\":]\n",
    "df_2000_plot = df_2000.T\n",
    "df_2000_plot.plot()"
   ]
  },
  {
   "cell_type": "code",
   "execution_count": null,
   "metadata": {},
   "outputs": [],
   "source": [
    "# choose columns > 2017\n",
    "data_gdp_eu_20xx = data_gdp_eu_20xx.loc[:, [\"2017\", \"2018\", \"2019\", \"2020\", \"2021\"]]\n",
    "data_gdp_eu_20xx"
   ]
  },
  {
   "cell_type": "code",
   "execution_count": null,
   "metadata": {},
   "outputs": [],
   "source": [
    "# get rid of scientific notation\n",
    "pd.options.display.float_format = \"{:.0f}\".format\n",
    "data_gdp_eu_20xx"
   ]
  },
  {
   "cell_type": "code",
   "execution_count": null,
   "metadata": {},
   "outputs": [],
   "source": [
    "data_gdp_eu_20xx = data_gdp_eu_20xx.T\n",
    "data_gdp_eu_20xx"
   ]
  },
  {
   "cell_type": "code",
   "execution_count": null,
   "metadata": {},
   "outputs": [],
   "source": [
    "data_gdp_eu_20xx.rename(columns={data_gdp_eu_20xx.columns[0]: \"GDP\"}, inplace=True)\n",
    "data_gdp_eu_20xx[\"year\"] = data_gdp_eu_20xx.index\n",
    "data_gdp_eu_20xx = data_gdp_eu_20xx[[\"year\", \"GDP\"]]\n",
    "data_gdp_eu_20xx = data_gdp_eu_20xx.reset_index()\n",
    "data_gdp_eu_20xx = data_gdp_eu_20xx.drop(data_gdp_eu_20xx.columns[0], axis = 1)\n",
    "data_gdp_eu_20xx"
   ]
  },
  {
   "cell_type": "code",
   "execution_count": null,
   "metadata": {},
   "outputs": [],
   "source": [
    "data_gdp_eu_20xx = pd.concat([data_gdp_eu_20xx]*12)\n",
    "data_gdp_eu_20xx = data_gdp_eu_20xx.reset_index()\n",
    "data_gdp_eu_20xx = data_gdp_eu_20xx.drop(data_gdp_eu_20xx.columns[0], axis = 1)\n",
    "data_gdp_eu_20xx"
   ]
  },
  {
   "cell_type": "code",
   "execution_count": null,
   "metadata": {},
   "outputs": [],
   "source": [
    "data_gdp_eu_20xx = data_gdp_eu_20xx.sort_values(\"year\")\n",
    "data_gdp_eu_20xx = data_gdp_eu_20xx.reset_index()\n",
    "data_gdp_eu_20xx = data_gdp_eu_20xx.drop(data_gdp_eu_20xx.columns[0], axis = 1)\n",
    "data_gdp_eu_20xx"
   ]
  },
  {
   "cell_type": "code",
   "execution_count": null,
   "metadata": {},
   "outputs": [],
   "source": [
    "df_to_add = pd.DataFrame({\"month\":[\"December\", \"November\", \"October\", \"September\", \"August\", \"July\", \"June\", \"May\", \"April\", \"March\", \"February\",\"January\"],\n",
    "                          \"month_no\" : [\"12\", \"11\", \"10\", \"09\", \"08\", \"07\", \"06\", \"05\", \"04\", \"03\", \"02\", \"01\"]})\n",
    "df_to_add = pd.concat([df_to_add]*5)\n",
    "df_to_add = df_to_add.reset_index()\n",
    "df_to_add = df_to_add.drop(df_to_add.columns[0], axis = 1)\n",
    "data_gdp_eu_20xx = pd.concat([data_gdp_eu_20xx, df_to_add], axis = 1)\n",
    "data_gdp_eu_20xx"
   ]
  },
  {
   "cell_type": "code",
   "execution_count": null,
   "metadata": {},
   "outputs": [],
   "source": [
    "data_gdp_eu_20xx = data_gdp_eu_20xx.sort_values([\"year\", \"month_no\"])\n",
    "data_gdp_eu_20xx"
   ]
  },
  {
   "cell_type": "code",
   "execution_count": null,
   "metadata": {},
   "outputs": [],
   "source": [
    "import numpy as np\n",
    "data_gdp_eu_20xx[\"GDP\"] = np.where(data_gdp_eu_20xx[\"month\"] != \"December\", np.nan, data_gdp_eu_20xx[\"GDP\"])\n",
    "data_gdp_eu_20xx"
   ]
  },
  {
   "cell_type": "code",
   "execution_count": null,
   "metadata": {},
   "outputs": [],
   "source": [
    "data_gdp_eu_20xx = data_gdp_eu_20xx.interpolate().reset_index(drop=True)\n",
    "data_gdp_eu_20xx"
   ]
  },
  {
   "cell_type": "code",
   "execution_count": null,
   "metadata": {},
   "outputs": [],
   "source": [
    "data_gdp_eu_20xx = data_gdp_eu_20xx.drop([0, 1, 2, 3, 4, 5, 6, 7, 8, 9, 10, 11])\n",
    "data_gdp_eu_20xx = data_gdp_eu_20xx.drop(data_gdp_eu_20xx.columns[3], axis = 1)\n",
    "data_gdp_eu_20xx = data_gdp_eu_20xx[[\"year\", \"month\", \"GDP\"]]\n",
    "data_gdp_eu_20xx = data_gdp_eu_20xx.reset_index(drop=True)\n",
    "data_gdp_eu_20xx"
   ]
  },
  {
   "cell_type": "code",
   "execution_count": null,
   "metadata": {},
   "outputs": [],
   "source": [
    "# creating csv-file with final cleaned dataframe\n",
    "data_gdp_eu_20xx.to_csv(\"Final Data_GDP EU_2018-2021.csv\")"
   ]
  },
  {
   "cell_type": "code",
   "execution_count": null,
   "metadata": {},
   "outputs": [],
   "source": []
  }
 ],
 "metadata": {
  "kernelspec": {
   "display_name": "Python 3.8.9 64-bit",
   "language": "python",
   "name": "python3"
  },
  "language_info": {
   "codemirror_mode": {
    "name": "ipython",
    "version": 3
   },
   "file_extension": ".py",
   "mimetype": "text/x-python",
   "name": "python",
   "nbconvert_exporter": "python",
   "pygments_lexer": "ipython3",
   "version": "3.8.9"
  },
  "orig_nbformat": 4,
  "vscode": {
   "interpreter": {
    "hash": "31f2aee4e71d21fbe5cf8b01ff0e069b9275f58929596ceb00d14d90e3e16cd6"
   }
  }
 },
 "nbformat": 4,
 "nbformat_minor": 2
}
