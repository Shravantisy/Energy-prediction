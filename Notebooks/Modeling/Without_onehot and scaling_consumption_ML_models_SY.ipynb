{
 "cells": [
  {
   "cell_type": "code",
   "execution_count": 281,
   "id": "6eba8188-0298-48dd-9f65-c2a83c7677cb",
   "metadata": {},
   "outputs": [],
   "source": [
    "#import some libraries\n",
    "import pandas as pd\n",
    "import numpy as np\n",
    "import seaborn as sns\n",
    "import datetime\n",
    "import matplotlib.pyplot as plt\n",
    "from scipy.stats import randint\n",
    "from sklearn.model_selection import train_test_split\n",
    "from sklearn.ensemble import RandomForestRegressor, GradientBoostingRegressor\n",
    "from sklearn.tree import DecisionTreeRegressor \n",
    "from sklearn.linear_model import LinearRegression, SGDRegressor\n",
    "from xgboost import XGBRegressor\n",
    "from sklearn.metrics import accuracy_score\n",
    "from sklearn.metrics import mean_squared_error, mean_absolute_error, mean_absolute_percentage_error, r2_score\n",
    "from sklearn.preprocessing import StandardScaler, MinMaxScaler, RobustScaler\n",
    "from sklearn.model_selection import GridSearchCV, RandomizedSearchCV\n"
   ]
  },
  {
   "cell_type": "code",
   "execution_count": 282,
   "id": "79644335-2888-4a94-ab69-19abacddf876",
   "metadata": {},
   "outputs": [],
   "source": [
    "#reading for training data\n",
    "pd.options.display.float_format = \"{:.2f}\".format\n",
    "data = pd.read_csv(\"Train_Final project_Data cleaning_Consumption_2018 to 2021_SY.csv\")"
   ]
  },
  {
   "cell_type": "code",
   "execution_count": 283,
   "id": "ac07ee7b-2a34-4a9a-a309-d8bc2d245a08",
   "metadata": {},
   "outputs": [],
   "source": [
    "data = ( data.replace(regex=r'January', value = \"01\").\n",
    "        replace(regex=r'February', value = \"02\")\n",
    "        .replace(regex=r'March', value = \"03\").\n",
    "        replace(regex=r'April', value = \"04\").\n",
    "        replace(regex=r'May', value = \"05\").\n",
    "        replace(regex=r'June', value = \"06\").\n",
    "        replace(regex=r'July', value = \"07\").\n",
    "        replace(regex=r'August', value = \"08\").\n",
    "        replace(regex=r'September', value = \"09\").\n",
    "        replace(regex=r'October', value = \"10\").\n",
    "        replace(regex=r'November', value = \"11\").\n",
    "        replace(regex=r'December', value = \"12\")\n",
    ")"
   ]
  },
  {
   "cell_type": "code",
   "execution_count": 284,
   "id": "399db7cd-149a-4e6c-a182-d963713e6576",
   "metadata": {},
   "outputs": [],
   "source": [
    "#drop unwanted column\n",
    "#data = data.drop(columns=['day'], axis= 1)\n",
    "#data.head()"
   ]
  },
  {
   "cell_type": "code",
   "execution_count": 285,
   "id": "4ff9d189-853f-4e7f-8575-b8725cdcf955",
   "metadata": {},
   "outputs": [
    {
     "name": "stdout",
     "output_type": "stream",
     "text": [
      "<class 'pandas.core.frame.DataFrame'>\n",
      "RangeIndex: 1461 entries, 0 to 1460\n",
      "Data columns (total 8 columns):\n",
      " #   Column            Non-Null Count  Dtype  \n",
      "---  ------            --------------  -----  \n",
      " 0   year              1461 non-null   int64  \n",
      " 1   month             1461 non-null   int64  \n",
      " 2   day               1461 non-null   int64  \n",
      " 3   Population        1461 non-null   int64  \n",
      " 4   GDP               1461 non-null   float64\n",
      " 5   Renewable_energy  1461 non-null   float64\n",
      " 6   Price             1461 non-null   float64\n",
      " 7   Gas Consumption   1461 non-null   float64\n",
      "dtypes: float64(4), int64(4)\n",
      "memory usage: 91.4 KB\n"
     ]
    }
   ],
   "source": [
    "data[\"GDP\"]= data[\"GDP\"].astype(np.float64)\n",
    "data[\"month\"]= data[\"month\"].astype(np.int64)\n",
    "data[\"Population\"]= data[\"Population\"].astype(np.int64)\n",
    "data.info()"
   ]
  },
  {
   "cell_type": "code",
   "execution_count": 286,
   "id": "3d79b941-0bb6-4760-b77b-94ac3f2dbadb",
   "metadata": {},
   "outputs": [
    {
     "data": {
      "text/html": [
       "<div>\n",
       "<style scoped>\n",
       "    .dataframe tbody tr th:only-of-type {\n",
       "        vertical-align: middle;\n",
       "    }\n",
       "\n",
       "    .dataframe tbody tr th {\n",
       "        vertical-align: top;\n",
       "    }\n",
       "\n",
       "    .dataframe thead th {\n",
       "        text-align: right;\n",
       "    }\n",
       "</style>\n",
       "<table border=\"1\" class=\"dataframe\">\n",
       "  <thead>\n",
       "    <tr style=\"text-align: right;\">\n",
       "      <th></th>\n",
       "      <th>year</th>\n",
       "      <th>month</th>\n",
       "      <th>day</th>\n",
       "      <th>Population</th>\n",
       "      <th>GDP</th>\n",
       "      <th>Renewable_energy</th>\n",
       "      <th>Price</th>\n",
       "      <th>Gas Consumption</th>\n",
       "    </tr>\n",
       "  </thead>\n",
       "  <tbody>\n",
       "    <tr>\n",
       "      <th>0</th>\n",
       "      <td>2018</td>\n",
       "      <td>1</td>\n",
       "      <td>1</td>\n",
       "      <td>445590607</td>\n",
       "      <td>14867310310533.72</td>\n",
       "      <td>18.47</td>\n",
       "      <td>19.21</td>\n",
       "      <td>3118.40</td>\n",
       "    </tr>\n",
       "    <tr>\n",
       "      <th>1</th>\n",
       "      <td>2018</td>\n",
       "      <td>1</td>\n",
       "      <td>2</td>\n",
       "      <td>445590607</td>\n",
       "      <td>14867310310533.72</td>\n",
       "      <td>18.47</td>\n",
       "      <td>19.32</td>\n",
       "      <td>4055.60</td>\n",
       "    </tr>\n",
       "    <tr>\n",
       "      <th>2</th>\n",
       "      <td>2018</td>\n",
       "      <td>1</td>\n",
       "      <td>3</td>\n",
       "      <td>445590607</td>\n",
       "      <td>14867310310533.72</td>\n",
       "      <td>18.47</td>\n",
       "      <td>19.32</td>\n",
       "      <td>4470.10</td>\n",
       "    </tr>\n",
       "    <tr>\n",
       "      <th>3</th>\n",
       "      <td>2018</td>\n",
       "      <td>1</td>\n",
       "      <td>4</td>\n",
       "      <td>445590607</td>\n",
       "      <td>14867310310533.72</td>\n",
       "      <td>18.47</td>\n",
       "      <td>19.20</td>\n",
       "      <td>4203.20</td>\n",
       "    </tr>\n",
       "    <tr>\n",
       "      <th>4</th>\n",
       "      <td>2018</td>\n",
       "      <td>1</td>\n",
       "      <td>5</td>\n",
       "      <td>445590607</td>\n",
       "      <td>14867310310533.72</td>\n",
       "      <td>18.47</td>\n",
       "      <td>18.91</td>\n",
       "      <td>4190.70</td>\n",
       "    </tr>\n",
       "    <tr>\n",
       "      <th>...</th>\n",
       "      <td>...</td>\n",
       "      <td>...</td>\n",
       "      <td>...</td>\n",
       "      <td>...</td>\n",
       "      <td>...</td>\n",
       "      <td>...</td>\n",
       "      <td>...</td>\n",
       "      <td>...</td>\n",
       "    </tr>\n",
       "    <tr>\n",
       "      <th>1456</th>\n",
       "      <td>2021</td>\n",
       "      <td>12</td>\n",
       "      <td>27</td>\n",
       "      <td>447207489</td>\n",
       "      <td>17088620744318.82</td>\n",
       "      <td>23.08</td>\n",
       "      <td>106.89</td>\n",
       "      <td>4442.80</td>\n",
       "    </tr>\n",
       "    <tr>\n",
       "      <th>1457</th>\n",
       "      <td>2021</td>\n",
       "      <td>12</td>\n",
       "      <td>28</td>\n",
       "      <td>447207489</td>\n",
       "      <td>17088620744318.82</td>\n",
       "      <td>23.08</td>\n",
       "      <td>106.59</td>\n",
       "      <td>4063.20</td>\n",
       "    </tr>\n",
       "    <tr>\n",
       "      <th>1458</th>\n",
       "      <td>2021</td>\n",
       "      <td>12</td>\n",
       "      <td>29</td>\n",
       "      <td>447207489</td>\n",
       "      <td>17088620744318.82</td>\n",
       "      <td>23.08</td>\n",
       "      <td>96.48</td>\n",
       "      <td>3208.60</td>\n",
       "    </tr>\n",
       "    <tr>\n",
       "      <th>1459</th>\n",
       "      <td>2021</td>\n",
       "      <td>12</td>\n",
       "      <td>30</td>\n",
       "      <td>447207489</td>\n",
       "      <td>17088620744318.82</td>\n",
       "      <td>23.08</td>\n",
       "      <td>87.03</td>\n",
       "      <td>2880.00</td>\n",
       "    </tr>\n",
       "    <tr>\n",
       "      <th>1460</th>\n",
       "      <td>2021</td>\n",
       "      <td>12</td>\n",
       "      <td>31</td>\n",
       "      <td>447207489</td>\n",
       "      <td>17088620744318.82</td>\n",
       "      <td>23.08</td>\n",
       "      <td>70.34</td>\n",
       "      <td>1960.60</td>\n",
       "    </tr>\n",
       "  </tbody>\n",
       "</table>\n",
       "<p>1461 rows × 8 columns</p>\n",
       "</div>"
      ],
      "text/plain": [
       "      year  month  day  Population               GDP  Renewable_energy  Price  \\\n",
       "0     2018      1    1   445590607 14867310310533.72             18.47  19.21   \n",
       "1     2018      1    2   445590607 14867310310533.72             18.47  19.32   \n",
       "2     2018      1    3   445590607 14867310310533.72             18.47  19.32   \n",
       "3     2018      1    4   445590607 14867310310533.72             18.47  19.20   \n",
       "4     2018      1    5   445590607 14867310310533.72             18.47  18.91   \n",
       "...    ...    ...  ...         ...               ...               ...    ...   \n",
       "1456  2021     12   27   447207489 17088620744318.82             23.08 106.89   \n",
       "1457  2021     12   28   447207489 17088620744318.82             23.08 106.59   \n",
       "1458  2021     12   29   447207489 17088620744318.82             23.08  96.48   \n",
       "1459  2021     12   30   447207489 17088620744318.82             23.08  87.03   \n",
       "1460  2021     12   31   447207489 17088620744318.82             23.08  70.34   \n",
       "\n",
       "      Gas Consumption  \n",
       "0             3118.40  \n",
       "1             4055.60  \n",
       "2             4470.10  \n",
       "3             4203.20  \n",
       "4             4190.70  \n",
       "...               ...  \n",
       "1456          4442.80  \n",
       "1457          4063.20  \n",
       "1458          3208.60  \n",
       "1459          2880.00  \n",
       "1460          1960.60  \n",
       "\n",
       "[1461 rows x 8 columns]"
      ]
     },
     "execution_count": 286,
     "metadata": {},
     "output_type": "execute_result"
    }
   ],
   "source": [
    "data = data.iloc[::-1].reset_index(drop=True)\n",
    "data"
   ]
  },
  {
   "cell_type": "code",
   "execution_count": 287,
   "id": "d8091208-7b55-4c9c-9d98-bf28514f4817",
   "metadata": {},
   "outputs": [],
   "source": [
    "# X is Independent variables\n",
    "# y is dependent variables\n",
    "#drop the traget column\n",
    "X= data\n",
    "y= X.pop('Gas Consumption')"
   ]
  },
  {
   "cell_type": "code",
   "execution_count": 288,
   "id": "617305f6-6b52-472d-b54a-2f330ee74cd0",
   "metadata": {},
   "outputs": [],
   "source": [
    "#Convert categorical variable into dummy/indicator variables.\n",
    "#OneHotEn = pd.get_dummies(X)\n",
    "#OneHotEn"
   ]
  },
  {
   "cell_type": "code",
   "execution_count": 289,
   "id": "e56b74fc-0818-464c-ad08-bf3cc0cbdc5b",
   "metadata": {},
   "outputs": [],
   "source": [
    "# define min max scaler\n",
    "#scaler = RobustScaler()\n",
    "\n",
    "# transform data\n",
    "#scaled = scaler.fit_transform(X)\n",
    "\n",
    "#X = pd.DataFrame(scaled, columns=X.columns)\n",
    "#X.head()"
   ]
  },
  {
   "cell_type": "code",
   "execution_count": 290,
   "id": "19d42475-ec95-4a85-a813-78ea28ecd072",
   "metadata": {},
   "outputs": [],
   "source": [
    "#splitting data\n",
    "X_train, X_test, y_train, y_test = train_test_split(X, y, train_size=.8)"
   ]
  },
  {
   "cell_type": "code",
   "execution_count": 291,
   "id": "d24c9d6e-3747-439b-aa54-ed8c6582cf4d",
   "metadata": {},
   "outputs": [
    {
     "data": {
      "text/html": [
       "<div>\n",
       "<style scoped>\n",
       "    .dataframe tbody tr th:only-of-type {\n",
       "        vertical-align: middle;\n",
       "    }\n",
       "\n",
       "    .dataframe tbody tr th {\n",
       "        vertical-align: top;\n",
       "    }\n",
       "\n",
       "    .dataframe thead th {\n",
       "        text-align: right;\n",
       "    }\n",
       "</style>\n",
       "<table border=\"1\" class=\"dataframe\">\n",
       "  <thead>\n",
       "    <tr style=\"text-align: right;\">\n",
       "      <th></th>\n",
       "      <th>year</th>\n",
       "      <th>month</th>\n",
       "      <th>day</th>\n",
       "      <th>Population</th>\n",
       "      <th>GDP</th>\n",
       "      <th>Renewable_energy</th>\n",
       "      <th>Price</th>\n",
       "    </tr>\n",
       "  </thead>\n",
       "  <tbody>\n",
       "    <tr>\n",
       "      <th>863</th>\n",
       "      <td>2020</td>\n",
       "      <td>5</td>\n",
       "      <td>13</td>\n",
       "      <td>446810390</td>\n",
       "      <td>15528638585131.27</td>\n",
       "      <td>20.80</td>\n",
       "      <td>5.12</td>\n",
       "    </tr>\n",
       "    <tr>\n",
       "      <th>487</th>\n",
       "      <td>2019</td>\n",
       "      <td>5</td>\n",
       "      <td>3</td>\n",
       "      <td>446307676</td>\n",
       "      <td>15859191013014.76</td>\n",
       "      <td>19.42</td>\n",
       "      <td>14.56</td>\n",
       "    </tr>\n",
       "    <tr>\n",
       "      <th>618</th>\n",
       "      <td>2019</td>\n",
       "      <td>9</td>\n",
       "      <td>11</td>\n",
       "      <td>446386972</td>\n",
       "      <td>15763567835353.36</td>\n",
       "      <td>19.69</td>\n",
       "      <td>14.36</td>\n",
       "    </tr>\n",
       "    <tr>\n",
       "      <th>50</th>\n",
       "      <td>2018</td>\n",
       "      <td>2</td>\n",
       "      <td>20</td>\n",
       "      <td>445646784</td>\n",
       "      <td>14968347553675.34</td>\n",
       "      <td>18.53</td>\n",
       "      <td>19.77</td>\n",
       "    </tr>\n",
       "    <tr>\n",
       "      <th>467</th>\n",
       "      <td>2019</td>\n",
       "      <td>4</td>\n",
       "      <td>13</td>\n",
       "      <td>446287852</td>\n",
       "      <td>15883096807430.10</td>\n",
       "      <td>19.36</td>\n",
       "      <td>15.57</td>\n",
       "    </tr>\n",
       "  </tbody>\n",
       "</table>\n",
       "</div>"
      ],
      "text/plain": [
       "     year  month  day  Population               GDP  Renewable_energy  Price\n",
       "863  2020      5   13   446810390 15528638585131.27             20.80   5.12\n",
       "487  2019      5    3   446307676 15859191013014.76             19.42  14.56\n",
       "618  2019      9   11   446386972 15763567835353.36             19.69  14.36\n",
       "50   2018      2   20   445646784 14968347553675.34             18.53  19.77\n",
       "467  2019      4   13   446287852 15883096807430.10             19.36  15.57"
      ]
     },
     "execution_count": 291,
     "metadata": {},
     "output_type": "execute_result"
    }
   ],
   "source": [
    "X_train.head()"
   ]
  },
  {
   "cell_type": "markdown",
   "id": "5219bd67-44b0-42d5-9538-fe23551c6bb0",
   "metadata": {},
   "source": [
    "## Linear Regression"
   ]
  },
  {
   "cell_type": "code",
   "execution_count": 292,
   "id": "42fe3893-3698-4adb-9b42-b31c47eb899a",
   "metadata": {},
   "outputs": [
    {
     "name": "stdout",
     "output_type": "stream",
     "text": [
      "LR trainind score is 0.29470257477503725\n",
      "LR testing score is 0.31410502036352117\n"
     ]
    }
   ],
   "source": [
    "LR= LinearRegression()\n",
    "LR.fit(X_train,y_train)  ## fitting the training data\n",
    "\n",
    "X_test_pred_LR = LR.predict(X_test)  ## predicted x test\n",
    "\n",
    "X_train_pred_LR= LR.predict(X_train) ##predicted x train\n",
    "\n",
    "print('LR trainind score is',LR.score(X_train,y_train))\n",
    "print('LR testing score is',LR.score(X_test,y_test))"
   ]
  },
  {
   "cell_type": "markdown",
   "id": "4dcad427-3a4a-43a5-9ade-11964f3dc519",
   "metadata": {},
   "source": [
    "## Random Forest"
   ]
  },
  {
   "cell_type": "code",
   "execution_count": 293,
   "id": "20aeaefc-531f-4d3c-bc15-67cc4071ff44",
   "metadata": {},
   "outputs": [
    {
     "name": "stdout",
     "output_type": "stream",
     "text": [
      "RF score for training is 0.9891724546280368\n",
      "RF score for testing is 0.9440592315693369\n"
     ]
    }
   ],
   "source": [
    "from sklearn.ensemble import RandomForestRegressor\n",
    "\n",
    "RF=RandomForestRegressor()\n",
    "RF.fit(X_train,y_train) ## fitting the data\n",
    "\n",
    "x_test_pred_RF = RF.predict(X_test)  ## predicted x test\n",
    "\n",
    "X_train_pred_RF = RF.predict(X_train)  ## predicted x train\n",
    "\n",
    "print('RF score for training is',RF.score(X_train,y_train))\n",
    "print('RF score for testing is',RF.score(X_test,y_test))"
   ]
  },
  {
   "cell_type": "markdown",
   "id": "b1693950-da76-47b7-b254-5a935be0653b",
   "metadata": {},
   "source": [
    "## 5 different model"
   ]
  },
  {
   "cell_type": "code",
   "execution_count": 294,
   "id": "99d2e1a6-08c5-4960-9d18-210b716ba20c",
   "metadata": {},
   "outputs": [],
   "source": [
    "# creating 5 different models\n",
    "RF = RandomForestRegressor().fit(X_train, y_train)\n",
    "DT = DecisionTreeRegressor().fit(X_train, y_train)\n",
    "GBR = GradientBoostingRegressor().fit(X_train, y_train)\n",
    "LR = LinearRegression().fit(X_train, y_train)\n",
    "XGB = XGBRegressor().fit(X_train, y_train)"
   ]
  },
  {
   "cell_type": "code",
   "execution_count": 295,
   "id": "b39ed47a-39e1-40ca-81b9-9dbbb571caf2",
   "metadata": {},
   "outputs": [],
   "source": [
    "# the evaluation metrics\n",
    "models = [LR, DT, RF, GBR, XGB]\n",
    "RMSE = [mean_squared_error(y_test, mod.predict(X_test))**0.5 for mod in models]\n",
    "MAPE = [mean_absolute_percentage_error(y_test, mod.predict(X_test)) for mod in models]\n",
    "R2_Score = [r2_score(y_test, mod.predict(X_test)) for mod in models]"
   ]
  },
  {
   "cell_type": "code",
   "execution_count": 296,
   "id": "7c9c6e2f-8a9d-4407-8dd5-95290a8d3155",
   "metadata": {},
   "outputs": [],
   "source": [
    "# comparing 5 models\n",
    "Models = ['Linear Regression','Decision Tree','Random Forest','Gradient Boosting','XgBoost']\n",
    "evaluation = pd.DataFrame({'Models':Models,'RMSE':RMSE,'MAPE':MAPE, 'R2_Score':R2_Score})"
   ]
  },
  {
   "cell_type": "code",
   "execution_count": 297,
   "id": "f23c07af-195f-4d39-8fcb-39fda168e4f8",
   "metadata": {},
   "outputs": [
    {
     "data": {
      "text/html": [
       "<div>\n",
       "<style scoped>\n",
       "    .dataframe tbody tr th:only-of-type {\n",
       "        vertical-align: middle;\n",
       "    }\n",
       "\n",
       "    .dataframe tbody tr th {\n",
       "        vertical-align: top;\n",
       "    }\n",
       "\n",
       "    .dataframe thead th {\n",
       "        text-align: right;\n",
       "    }\n",
       "</style>\n",
       "<table border=\"1\" class=\"dataframe\">\n",
       "  <thead>\n",
       "    <tr style=\"text-align: right;\">\n",
       "      <th></th>\n",
       "      <th>Models</th>\n",
       "      <th>RMSE</th>\n",
       "      <th>MAPE</th>\n",
       "      <th>R2_Score</th>\n",
       "    </tr>\n",
       "  </thead>\n",
       "  <tbody>\n",
       "    <tr>\n",
       "      <th>0</th>\n",
       "      <td>Linear Regression</td>\n",
       "      <td>2288.16</td>\n",
       "      <td>2.74</td>\n",
       "      <td>0.31</td>\n",
       "    </tr>\n",
       "    <tr>\n",
       "      <th>1</th>\n",
       "      <td>Decision Tree</td>\n",
       "      <td>770.55</td>\n",
       "      <td>0.42</td>\n",
       "      <td>0.92</td>\n",
       "    </tr>\n",
       "    <tr>\n",
       "      <th>2</th>\n",
       "      <td>Random Forest</td>\n",
       "      <td>669.83</td>\n",
       "      <td>0.41</td>\n",
       "      <td>0.94</td>\n",
       "    </tr>\n",
       "    <tr>\n",
       "      <th>3</th>\n",
       "      <td>Gradient Boosting</td>\n",
       "      <td>895.33</td>\n",
       "      <td>0.60</td>\n",
       "      <td>0.89</td>\n",
       "    </tr>\n",
       "    <tr>\n",
       "      <th>4</th>\n",
       "      <td>XgBoost</td>\n",
       "      <td>678.48</td>\n",
       "      <td>0.45</td>\n",
       "      <td>0.94</td>\n",
       "    </tr>\n",
       "  </tbody>\n",
       "</table>\n",
       "</div>"
      ],
      "text/plain": [
       "              Models    RMSE  MAPE  R2_Score\n",
       "0  Linear Regression 2288.16  2.74      0.31\n",
       "1      Decision Tree  770.55  0.42      0.92\n",
       "2      Random Forest  669.83  0.41      0.94\n",
       "3  Gradient Boosting  895.33  0.60      0.89\n",
       "4            XgBoost  678.48  0.45      0.94"
      ]
     },
     "execution_count": 297,
     "metadata": {},
     "output_type": "execute_result"
    }
   ],
   "source": [
    "evaluation"
   ]
  },
  {
   "cell_type": "code",
   "execution_count": 298,
   "id": "5f2ff713-cb3a-45cb-ab31-a65c5d76b05d",
   "metadata": {},
   "outputs": [],
   "source": [
    "#the evaluation metrics for train\n",
    "models = [LR, DT, RF, GBR, XGB]\n",
    "\n",
    "RMSE = [mean_squared_error(y_train, mod.predict(X_train))**0.5 for mod in models]\n",
    "\n",
    "MAPE = [mean_absolute_percentage_error(y_train, mod.predict(X_train)) for mod in models]\n",
    "\n",
    "R2_Score = [r2_score(y_train, mod.predict(X_train)) for mod in models]"
   ]
  },
  {
   "cell_type": "code",
   "execution_count": 299,
   "id": "888d5e48-ed7d-4918-a2ed-c4646978d433",
   "metadata": {},
   "outputs": [],
   "source": [
    "# comparing 5 models\n",
    "Models = ['Linear Regression','Decision Tree','Random Forest','Gradient Boosting','XgBoost']\n",
    "evaluation = pd.DataFrame({'Models':Models,'RMSE':RMSE,'MAPE':MAPE, 'R2_Score':R2_Score})"
   ]
  },
  {
   "cell_type": "code",
   "execution_count": 300,
   "id": "5c1acba9-7ffb-4f91-9e6b-9c074d04588c",
   "metadata": {},
   "outputs": [
    {
     "data": {
      "text/html": [
       "<div>\n",
       "<style scoped>\n",
       "    .dataframe tbody tr th:only-of-type {\n",
       "        vertical-align: middle;\n",
       "    }\n",
       "\n",
       "    .dataframe tbody tr th {\n",
       "        vertical-align: top;\n",
       "    }\n",
       "\n",
       "    .dataframe thead th {\n",
       "        text-align: right;\n",
       "    }\n",
       "</style>\n",
       "<table border=\"1\" class=\"dataframe\">\n",
       "  <thead>\n",
       "    <tr style=\"text-align: right;\">\n",
       "      <th></th>\n",
       "      <th>Models</th>\n",
       "      <th>RMSE</th>\n",
       "      <th>MAPE</th>\n",
       "      <th>R2_Score</th>\n",
       "    </tr>\n",
       "  </thead>\n",
       "  <tbody>\n",
       "    <tr>\n",
       "      <th>0</th>\n",
       "      <td>Linear Regression</td>\n",
       "      <td>2114.78</td>\n",
       "      <td>2.85</td>\n",
       "      <td>0.29</td>\n",
       "    </tr>\n",
       "    <tr>\n",
       "      <th>1</th>\n",
       "      <td>Decision Tree</td>\n",
       "      <td>0.00</td>\n",
       "      <td>0.00</td>\n",
       "      <td>1.00</td>\n",
       "    </tr>\n",
       "    <tr>\n",
       "      <th>2</th>\n",
       "      <td>Random Forest</td>\n",
       "      <td>250.24</td>\n",
       "      <td>0.13</td>\n",
       "      <td>0.99</td>\n",
       "    </tr>\n",
       "    <tr>\n",
       "      <th>3</th>\n",
       "      <td>Gradient Boosting</td>\n",
       "      <td>717.17</td>\n",
       "      <td>0.51</td>\n",
       "      <td>0.92</td>\n",
       "    </tr>\n",
       "    <tr>\n",
       "      <th>4</th>\n",
       "      <td>XgBoost</td>\n",
       "      <td>125.04</td>\n",
       "      <td>0.13</td>\n",
       "      <td>1.00</td>\n",
       "    </tr>\n",
       "  </tbody>\n",
       "</table>\n",
       "</div>"
      ],
      "text/plain": [
       "              Models    RMSE  MAPE  R2_Score\n",
       "0  Linear Regression 2114.78  2.85      0.29\n",
       "1      Decision Tree    0.00  0.00      1.00\n",
       "2      Random Forest  250.24  0.13      0.99\n",
       "3  Gradient Boosting  717.17  0.51      0.92\n",
       "4            XgBoost  125.04  0.13      1.00"
      ]
     },
     "execution_count": 300,
     "metadata": {},
     "output_type": "execute_result"
    }
   ],
   "source": [
    "evaluation"
   ]
  },
  {
   "cell_type": "code",
   "execution_count": 301,
   "id": "770a6eab-4218-488e-876b-8f533a112f10",
   "metadata": {},
   "outputs": [],
   "source": [
    "## Predict"
   ]
  },
  {
   "cell_type": "code",
   "execution_count": 302,
   "id": "3828d9b8-250d-46a2-9f5a-6c70bf5e059f",
   "metadata": {},
   "outputs": [
    {
     "data": {
      "text/plain": [
       "(212, 7)"
      ]
     },
     "execution_count": 302,
     "metadata": {},
     "output_type": "execute_result"
    }
   ],
   "source": [
    "test_data = pd.read_csv(\"Predict_Final project_without_consumption_table_SY.csv\") #reading data from csv\n",
    "test_data.shape"
   ]
  },
  {
   "cell_type": "code",
   "execution_count": 303,
   "id": "61322bef-95c6-48eb-9a02-95069abb7bbf",
   "metadata": {},
   "outputs": [],
   "source": [
    "test_data = ( test_data.replace(regex=r'January', value = \"01\").\n",
    "             replace(regex=r'February', value = \"02\").\n",
    "             replace(regex=r'March', value = \"03\").\n",
    "             replace(regex=r'April', value = \"04\").\n",
    "             replace(regex=r'May', value = \"05\").\n",
    "             replace(regex=r'June', value = \"06\").\n",
    "             replace(regex=r'July', value = \"07\").\n",
    "             replace(regex=r'August', value = \"08\").\n",
    "             replace(regex=r'September', value = \"09\").\n",
    "             replace(regex=r'October', value = \"10\").\n",
    "             replace(regex=r'November', value = \"11\").\n",
    "             replace(regex=r'December', value = \"12\")\n",
    ")"
   ]
  },
  {
   "cell_type": "code",
   "execution_count": 304,
   "id": "6c477354-f382-437a-8493-13a5458fb688",
   "metadata": {},
   "outputs": [
    {
     "name": "stdout",
     "output_type": "stream",
     "text": [
      "<class 'pandas.core.frame.DataFrame'>\n",
      "RangeIndex: 212 entries, 0 to 211\n",
      "Data columns (total 7 columns):\n",
      " #   Column            Non-Null Count  Dtype  \n",
      "---  ------            --------------  -----  \n",
      " 0   year              212 non-null    int64  \n",
      " 1   month             212 non-null    int64  \n",
      " 2   day               212 non-null    int64  \n",
      " 3   Population        212 non-null    int64  \n",
      " 4   GDP               212 non-null    float64\n",
      " 5   Renewable_energy  212 non-null    float64\n",
      " 6   Price             212 non-null    float64\n",
      "dtypes: float64(3), int64(4)\n",
      "memory usage: 11.7 KB\n"
     ]
    }
   ],
   "source": [
    "test_data[\"GDP\"]= test_data[\"GDP\"].astype(np.float64)\n",
    "test_data[\"month\"]= test_data[\"month\"].astype(np.int64)\n",
    "test_data[\"Population\"]= test_data[\"Population\"].astype(np.int64)\n",
    "test_data.info()"
   ]
  },
  {
   "cell_type": "code",
   "execution_count": 305,
   "id": "5abed383-f46e-4b93-ac0c-ccccd68ac7bb",
   "metadata": {},
   "outputs": [],
   "source": [
    "#Convert categorical variable into dummy/indicator variables.\n",
    "#OneHotEn1 = pd.get_dummies(test_data)\n",
    "#OneHotEn1"
   ]
  },
  {
   "cell_type": "code",
   "execution_count": 306,
   "id": "1b6f3722-5887-4969-949a-47716d423a9e",
   "metadata": {},
   "outputs": [
    {
     "data": {
      "text/html": [
       "<div>\n",
       "<style scoped>\n",
       "    .dataframe tbody tr th:only-of-type {\n",
       "        vertical-align: middle;\n",
       "    }\n",
       "\n",
       "    .dataframe tbody tr th {\n",
       "        vertical-align: top;\n",
       "    }\n",
       "\n",
       "    .dataframe thead th {\n",
       "        text-align: right;\n",
       "    }\n",
       "</style>\n",
       "<table border=\"1\" class=\"dataframe\">\n",
       "  <thead>\n",
       "    <tr style=\"text-align: right;\">\n",
       "      <th></th>\n",
       "      <th>year</th>\n",
       "      <th>month</th>\n",
       "      <th>day</th>\n",
       "      <th>Population</th>\n",
       "      <th>GDP</th>\n",
       "      <th>Renewable_energy</th>\n",
       "      <th>Price</th>\n",
       "    </tr>\n",
       "  </thead>\n",
       "  <tbody>\n",
       "    <tr>\n",
       "      <th>0</th>\n",
       "      <td>2022</td>\n",
       "      <td>1</td>\n",
       "      <td>1</td>\n",
       "      <td>447101666</td>\n",
       "      <td>17125646089264.85</td>\n",
       "      <td>23.16</td>\n",
       "      <td>71.10</td>\n",
       "    </tr>\n",
       "    <tr>\n",
       "      <th>1</th>\n",
       "      <td>2022</td>\n",
       "      <td>1</td>\n",
       "      <td>2</td>\n",
       "      <td>447101666</td>\n",
       "      <td>17125646089264.85</td>\n",
       "      <td>23.16</td>\n",
       "      <td>71.86</td>\n",
       "    </tr>\n",
       "    <tr>\n",
       "      <th>2</th>\n",
       "      <td>2022</td>\n",
       "      <td>1</td>\n",
       "      <td>3</td>\n",
       "      <td>447101666</td>\n",
       "      <td>17125646089264.85</td>\n",
       "      <td>23.16</td>\n",
       "      <td>72.61</td>\n",
       "    </tr>\n",
       "    <tr>\n",
       "      <th>3</th>\n",
       "      <td>2022</td>\n",
       "      <td>1</td>\n",
       "      <td>4</td>\n",
       "      <td>447101666</td>\n",
       "      <td>17125646089264.85</td>\n",
       "      <td>23.16</td>\n",
       "      <td>80.53</td>\n",
       "    </tr>\n",
       "    <tr>\n",
       "      <th>4</th>\n",
       "      <td>2022</td>\n",
       "      <td>1</td>\n",
       "      <td>5</td>\n",
       "      <td>447101666</td>\n",
       "      <td>17125646089264.85</td>\n",
       "      <td>23.16</td>\n",
       "      <td>82.94</td>\n",
       "    </tr>\n",
       "    <tr>\n",
       "      <th>...</th>\n",
       "      <td>...</td>\n",
       "      <td>...</td>\n",
       "      <td>...</td>\n",
       "      <td>...</td>\n",
       "      <td>...</td>\n",
       "      <td>...</td>\n",
       "      <td>...</td>\n",
       "    </tr>\n",
       "    <tr>\n",
       "      <th>207</th>\n",
       "      <td>2022</td>\n",
       "      <td>7</td>\n",
       "      <td>27</td>\n",
       "      <td>448911666</td>\n",
       "      <td>17347798158941.00</td>\n",
       "      <td>23.66</td>\n",
       "      <td>206.99</td>\n",
       "    </tr>\n",
       "    <tr>\n",
       "      <th>208</th>\n",
       "      <td>2022</td>\n",
       "      <td>7</td>\n",
       "      <td>28</td>\n",
       "      <td>448911666</td>\n",
       "      <td>17347798158941.00</td>\n",
       "      <td>23.66</td>\n",
       "      <td>200.35</td>\n",
       "    </tr>\n",
       "    <tr>\n",
       "      <th>209</th>\n",
       "      <td>2022</td>\n",
       "      <td>7</td>\n",
       "      <td>29</td>\n",
       "      <td>448911666</td>\n",
       "      <td>17347798158941.00</td>\n",
       "      <td>23.66</td>\n",
       "      <td>192.38</td>\n",
       "    </tr>\n",
       "    <tr>\n",
       "      <th>210</th>\n",
       "      <td>2022</td>\n",
       "      <td>7</td>\n",
       "      <td>30</td>\n",
       "      <td>448911666</td>\n",
       "      <td>17347798158941.00</td>\n",
       "      <td>23.66</td>\n",
       "      <td>198.25</td>\n",
       "    </tr>\n",
       "    <tr>\n",
       "      <th>211</th>\n",
       "      <td>2022</td>\n",
       "      <td>7</td>\n",
       "      <td>31</td>\n",
       "      <td>448911666</td>\n",
       "      <td>17347798158941.00</td>\n",
       "      <td>23.66</td>\n",
       "      <td>204.12</td>\n",
       "    </tr>\n",
       "  </tbody>\n",
       "</table>\n",
       "<p>212 rows × 7 columns</p>\n",
       "</div>"
      ],
      "text/plain": [
       "     year  month  day  Population               GDP  Renewable_energy  Price\n",
       "0    2022      1    1   447101666 17125646089264.85             23.16  71.10\n",
       "1    2022      1    2   447101666 17125646089264.85             23.16  71.86\n",
       "2    2022      1    3   447101666 17125646089264.85             23.16  72.61\n",
       "3    2022      1    4   447101666 17125646089264.85             23.16  80.53\n",
       "4    2022      1    5   447101666 17125646089264.85             23.16  82.94\n",
       "..    ...    ...  ...         ...               ...               ...    ...\n",
       "207  2022      7   27   448911666 17347798158941.00             23.66 206.99\n",
       "208  2022      7   28   448911666 17347798158941.00             23.66 200.35\n",
       "209  2022      7   29   448911666 17347798158941.00             23.66 192.38\n",
       "210  2022      7   30   448911666 17347798158941.00             23.66 198.25\n",
       "211  2022      7   31   448911666 17347798158941.00             23.66 204.12\n",
       "\n",
       "[212 rows x 7 columns]"
      ]
     },
     "execution_count": 306,
     "metadata": {},
     "output_type": "execute_result"
    }
   ],
   "source": [
    "test_data = test_data.iloc[::-1].reset_index(drop=True)\n",
    "test_data"
   ]
  },
  {
   "cell_type": "code",
   "execution_count": 307,
   "id": "f14ab6ff-a068-47fe-bdb9-4b73810a60ce",
   "metadata": {},
   "outputs": [],
   "source": [
    "# define min max scaler\n",
    "#scaler1 = RobustScaler()\n",
    "\n",
    "# transform data\n",
    "#scaled1 = scaler1.fit_transform(test_data)\n",
    "\n",
    "#test_data = pd.DataFrame(scaled1, columns=test_data.columns)\n",
    "#test_data.head()"
   ]
  },
  {
   "cell_type": "code",
   "execution_count": 308,
   "id": "511d7087-ccb3-490e-8f6e-25b699094109",
   "metadata": {},
   "outputs": [],
   "source": [
    "#OneHotEn1[\"month_August\"] = 0.00"
   ]
  },
  {
   "cell_type": "code",
   "execution_count": 309,
   "id": "501ce86d-a99c-42a5-8603-a650ff1f5d60",
   "metadata": {},
   "outputs": [],
   "source": [
    "#OneHotEn1[\"month_September\"] = 0.00\n",
    "#OneHotEn1[\"month_October\"] = 0.00\n",
    "#OneHotEn1[\"month_November\"] = 0.00\n",
    "#OneHotEn1[\"month_December\"] = 0.00"
   ]
  },
  {
   "cell_type": "code",
   "execution_count": 310,
   "id": "17f7e4ac-6c3a-4db1-922c-c7b81d11028d",
   "metadata": {},
   "outputs": [
    {
     "data": {
      "text/plain": [
       "(212, 7)"
      ]
     },
     "execution_count": 310,
     "metadata": {},
     "output_type": "execute_result"
    }
   ],
   "source": [
    "test_data.shape"
   ]
  },
  {
   "cell_type": "code",
   "execution_count": 311,
   "id": "fa7225c1-0b44-4e99-9e55-09a6833c4c55",
   "metadata": {},
   "outputs": [],
   "source": [
    "# To predict test data using XGB full pipeline\n",
    "test_preds = RF.predict(test_data)"
   ]
  },
  {
   "cell_type": "code",
   "execution_count": 312,
   "id": "63035f56-322e-4ee5-bfec-3262891efc97",
   "metadata": {},
   "outputs": [],
   "source": [
    "# Two cloumns are needed to make dataframe \n",
    "result = pd.DataFrame({'Predict_Consumption': test_preds})"
   ]
  },
  {
   "cell_type": "code",
   "execution_count": 313,
   "id": "d4f5d88e-af51-486a-a54c-6f4cb8f6fdb6",
   "metadata": {},
   "outputs": [
    {
     "data": {
      "text/html": [
       "<div>\n",
       "<style scoped>\n",
       "    .dataframe tbody tr th:only-of-type {\n",
       "        vertical-align: middle;\n",
       "    }\n",
       "\n",
       "    .dataframe tbody tr th {\n",
       "        vertical-align: top;\n",
       "    }\n",
       "\n",
       "    .dataframe thead th {\n",
       "        text-align: right;\n",
       "    }\n",
       "</style>\n",
       "<table border=\"1\" class=\"dataframe\">\n",
       "  <thead>\n",
       "    <tr style=\"text-align: right;\">\n",
       "      <th></th>\n",
       "      <th>Predict_Consumption</th>\n",
       "    </tr>\n",
       "  </thead>\n",
       "  <tbody>\n",
       "    <tr>\n",
       "      <th>0</th>\n",
       "      <td>5252.48</td>\n",
       "    </tr>\n",
       "    <tr>\n",
       "      <th>1</th>\n",
       "      <td>5753.54</td>\n",
       "    </tr>\n",
       "    <tr>\n",
       "      <th>2</th>\n",
       "      <td>6103.69</td>\n",
       "    </tr>\n",
       "    <tr>\n",
       "      <th>3</th>\n",
       "      <td>6192.64</td>\n",
       "    </tr>\n",
       "    <tr>\n",
       "      <th>4</th>\n",
       "      <td>6119.80</td>\n",
       "    </tr>\n",
       "    <tr>\n",
       "      <th>...</th>\n",
       "      <td>...</td>\n",
       "    </tr>\n",
       "    <tr>\n",
       "      <th>207</th>\n",
       "      <td>711.19</td>\n",
       "    </tr>\n",
       "    <tr>\n",
       "      <th>208</th>\n",
       "      <td>706.51</td>\n",
       "    </tr>\n",
       "    <tr>\n",
       "      <th>209</th>\n",
       "      <td>716.94</td>\n",
       "    </tr>\n",
       "    <tr>\n",
       "      <th>210</th>\n",
       "      <td>785.90</td>\n",
       "    </tr>\n",
       "    <tr>\n",
       "      <th>211</th>\n",
       "      <td>785.90</td>\n",
       "    </tr>\n",
       "  </tbody>\n",
       "</table>\n",
       "<p>212 rows × 1 columns</p>\n",
       "</div>"
      ],
      "text/plain": [
       "     Predict_Consumption\n",
       "0                5252.48\n",
       "1                5753.54\n",
       "2                6103.69\n",
       "3                6192.64\n",
       "4                6119.80\n",
       "..                   ...\n",
       "207               711.19\n",
       "208               706.51\n",
       "209               716.94\n",
       "210               785.90\n",
       "211               785.90\n",
       "\n",
       "[212 rows x 1 columns]"
      ]
     },
     "execution_count": 313,
     "metadata": {},
     "output_type": "execute_result"
    }
   ],
   "source": [
    "result"
   ]
  },
  {
   "cell_type": "code",
   "execution_count": 314,
   "id": "10b14235-d509-48cf-9fbf-28bc1e5e4b7b",
   "metadata": {},
   "outputs": [],
   "source": [
    "result.to_csv(\"Predict_Consumption_table_SY.csv\", index= False)"
   ]
  },
  {
   "cell_type": "code",
   "execution_count": null,
   "id": "62a876f5-6753-4f35-9813-d61bef343367",
   "metadata": {},
   "outputs": [],
   "source": []
  }
 ],
 "metadata": {
  "kernelspec": {
   "display_name": "Python 3 (ipykernel)",
   "language": "python",
   "name": "python3"
  },
  "language_info": {
   "codemirror_mode": {
    "name": "ipython",
    "version": 3
   },
   "file_extension": ".py",
   "mimetype": "text/x-python",
   "name": "python",
   "nbconvert_exporter": "python",
   "pygments_lexer": "ipython3",
   "version": "3.9.7"
  }
 },
 "nbformat": 4,
 "nbformat_minor": 5
}
